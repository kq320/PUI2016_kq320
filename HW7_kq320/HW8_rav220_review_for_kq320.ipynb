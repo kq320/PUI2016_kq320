{
 "cells": [
  {
   "cell_type": "markdown",
   "metadata": {},
   "source": [
    "#### Plot review for kq320.\n",
    "\n",
    "Very clean looking line chart.  It directs my attention where it's supposed to go... right on the Gaussian curve.  It could use a bit more information, maybe something about the theory, etc.  But I'm sure you kmow that.  And don't forget the usual components (title, larger axis lables, etc).  Nice plot!\n",
    "\n",
    "-Richard\n",
    "\n",
    "(sorry I could not place a visual of your plot on this review.  My machine is down and I'm working with seriously old one for now ;)\n"
   ]
  },
  {
   "cell_type": "code",
   "execution_count": null,
   "metadata": {
    "collapsed": true
   },
   "outputs": [],
   "source": []
  },
  {
   "cell_type": "code",
   "execution_count": null,
   "metadata": {
    "collapsed": true
   },
   "outputs": [],
   "source": []
  }
 ],
 "metadata": {
  "kernelspec": {
   "display_name": "PUI2016_Python2",
   "language": "python",
   "name": "pui2016_python2"
  },
  "language_info": {
   "codemirror_mode": {
    "name": "ipython",
    "version": 2
   },
   "file_extension": ".py",
   "mimetype": "text/x-python",
   "name": "python",
   "nbconvert_exporter": "python",
   "pygments_lexer": "ipython2",
   "version": "2.7.12"
  }
 },
 "nbformat": 4,
 "nbformat_minor": 0
}
