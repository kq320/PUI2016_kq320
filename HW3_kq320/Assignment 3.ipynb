{
 "cells": [
  {
   "cell_type": "markdown",
   "metadata": {},
   "source": [
    "# HW_3_3_kq320\n",
    "Question: \n",
    "\n",
    "Is the new bus route improving commute?\n",
    "\n",
    "Hypothesis:\n",
    "\n",
    "THe new bus route need less commute time than old bus route\n",
    "\n",
    "Null Hypothesis:\n",
    "\n",
    "The average of new bus route commute time is the same or longer with old bus route:\n",
    "\n",
    "T(new) >= T(old)\n",
    "\n",
    "Alternative Hypothesis:\n",
    "\n",
    "The average of new bus route commute time is smaller than old bus route:\n",
    "\n",
    "T(new) < T(old)\n",
    "\n",
    "Statistical Significance: $$\\alpha = 0.05$$"
   ]
  },
  {
   "cell_type": "code",
   "execution_count": 1,
   "metadata": {
    "collapsed": true
   },
   "outputs": [],
   "source": [
    "import numpy as np\n",
    "from scipy import stats"
   ]
  },
  {
   "cell_type": "code",
   "execution_count": 5,
   "metadata": {
    "collapsed": true
   },
   "outputs": [],
   "source": [
    "sample = np.loadtxt(\"times.txt\")"
   ]
  },
  {
   "cell_type": "code",
   "execution_count": 6,
   "metadata": {
    "collapsed": true
   },
   "outputs": [],
   "source": [
    "N = len(sample)"
   ]
  },
  {
   "cell_type": "code",
   "execution_count": 7,
   "metadata": {
    "collapsed": true
   },
   "outputs": [],
   "source": [
    "mean_pop = 36\n",
    "mean_sample = sample.mean()"
   ]
  },
  {
   "cell_type": "code",
   "execution_count": 11,
   "metadata": {
    "collapsed": false
   },
   "outputs": [],
   "source": [
    "stdev = 6\n",
    "Z = (mean_pop - mean_sample) / (stdev / np.sqrt(N)) "
   ]
  },
  {
   "cell_type": "code",
   "execution_count": 13,
   "metadata": {
    "collapsed": false
   },
   "outputs": [
    {
     "name": "stdout",
     "output_type": "stream",
     "text": [
      "Z = 2.56 p = 0.0053\n"
     ]
    }
   ],
   "source": [
    "p = stats.norm.sf(np.abs(Z))\n",
    "print('Z = %0.2f p = %0.4f' % (Z, p) )"
   ]
  },
  {
   "cell_type": "markdown",
   "metadata": {},
   "source": [
    "we reject null hypothesis because p = 0.0053 < $\\alpha = 0.05$"
   ]
  }
 ],
 "metadata": {
  "kernelspec": {
   "display_name": "PUI2016_Python2",
   "language": "python",
   "name": "pui2016_python2"
  },
  "language_info": {
   "codemirror_mode": {
    "name": "ipython",
    "version": 2
   },
   "file_extension": ".py",
   "mimetype": "text/x-python",
   "name": "python",
   "nbconvert_exporter": "python",
   "pygments_lexer": "ipython2",
   "version": "2.7.12"
  }
 },
 "nbformat": 4,
 "nbformat_minor": 0
}
